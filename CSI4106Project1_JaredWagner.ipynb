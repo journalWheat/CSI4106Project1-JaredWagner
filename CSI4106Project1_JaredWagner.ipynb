{
  "nbformat": 4,
  "nbformat_minor": 0,
  "metadata": {
    "colab": {
      "provenance": [],
      "authorship_tag": "ABX9TyMOtVyDy07KfgkaWQdPvKTp",
      "include_colab_link": true
    },
    "kernelspec": {
      "name": "python3",
      "display_name": "Python 3"
    },
    "language_info": {
      "name": "python"
    }
  },
  "cells": [
    {
      "cell_type": "markdown",
      "metadata": {
        "id": "view-in-github",
        "colab_type": "text"
      },
      "source": [
        "<a href=\"https://colab.research.google.com/github/journalWheat/CSI4106Project1-JaredWagner/blob/main/CSI4106Project1_JaredWagner.ipynb\" target=\"_parent\"><img src=\"https://colab.research.google.com/assets/colab-badge.svg\" alt=\"Open In Colab\"/></a>"
      ]
    },
    {
      "cell_type": "markdown",
      "source": [
        "#AUTHOR INFO\n",
        "Intellectual property of JARED WAGNER, October 2022.\n",
        "\n",
        "Project 1: CSI4106 (Introduction ot Artificial Intelligence)\n",
        "\n",
        "#What's in an airline?\n",
        "\n",
        "The dataset I have chosen for this project contains customer satisfaction for travellers aboard an unnamed airline (which I shall refer to as \"Fastway Air\" for the purposes of this report.) Each sample contains data about the trip itself (e.g. how long the flight was delayed), some light demographic information (age and sex), and some evidently self-reported data from the customer rating different aspects of their trip.\n",
        "\n",
        "My main focus parsing this data will be to create models which can accurately determine whether a customer was 'satisfied' or 'unsatisfied or neutral' with their trip, using the predictors I have available to me. Because there are only two categories under consideration, this is a binary classification problem.\n",
        "\n",
        "Customer satisfaction is a valuable business metric. For Fastway Air, the ability to categorize a customer are 'satisfied' or not could impact how they change their internal business practices (to maximize satisfaction), or how they make it up to customers who they can predict were unhappy with their 8-hour trip to Europe with poor wifi service. In my own experience with SkipTheDishes -- a food delivery service -- my wrath has been suspended time after time when they succesfully predict my dissatisfaction with a 1-hour-over-estimated lag-time and send me an email to say \"sorry for the wait! Here's $5 off.\""
      ],
      "metadata": {
        "id": "hNwBCxmf9O0Y"
      }
    },
    {
      "cell_type": "markdown",
      "source": [
        "# Analyzing the data + feature engineering\n",
        "\n",
        "The main problem to start with is to glean some initial insights on the data provided. From Kaggle, it is already clear that this dataset is fairly large (~12000 samples) with lots of columns which may or may not be relevant. To start with, what are the metrics we have available to us?"
      ],
      "metadata": {
        "id": "ys1pOZV-ABDm"
      }
    },
    {
      "cell_type": "code",
      "execution_count": 19,
      "metadata": {
        "id": "1jRWo9s1xywm",
        "colab": {
          "base_uri": "https://localhost:8080/"
        },
        "outputId": "10abcbbd-a0ff-4696-dfec-bcd873d79b74"
      },
      "outputs": [
        {
          "output_type": "stream",
          "name": "stdout",
          "text": [
            "Unnamed: 0\n",
            "Gender\n",
            "customer_type\n",
            "age\n",
            "type_of_travel\n",
            "customer_class\n",
            "flight_distance\n",
            "inflight_wifi_service\n",
            "departure_arrival_time_convenient\n",
            "ease_of_online_booking\n",
            "gate_location\n",
            "food_and_drink\n",
            "online_boarding\n",
            "seat_comfort\n",
            "inflight_entertainment\n",
            "onboard_service\n",
            "leg_room_service\n",
            "baggage_handling\n",
            "checkin_service\n",
            "inflight_service\n",
            "cleanliness\n",
            "departure_delay_in_minutes\n",
            "arrival_delay_in_minutes\n",
            "satisfaction\n"
          ]
        }
      ],
      "source": [
        "import pandas as pd\n",
        "airline_raw_df = pd.read_csv('https://raw.githubusercontent.com/journalWheat/CSI4106Project1-JaredWagner/main/airline_passenger_satisfaction.csv')\n",
        "\n",
        "for column in airline_raw_df:\n",
        "  print(column)"
      ]
    },
    {
      "cell_type": "markdown",
      "source": [
        "Clearly: I have options for what metrics I use. Ideally I would like to use the self-reported metrics, which have values 0-5, because processing these metrics measured on the same scale will be easier than dealing with categorical (e.g. Gender='Male'/'Female') data or data on a wider range (e.g. 'departure_delay_in_minutes'). \n",
        "\n",
        "Therefore, my initial analysis will be to determine if I can get by just with the self-reported data from customers. I'll pull these columns into a new dataframe and visualize the distribution of this data."
      ],
      "metadata": {
        "id": "n6GZrQ4eBMIr"
      }
    },
    {
      "cell_type": "code",
      "source": [
        "import matplotlib.pyplot as plt\n",
        "import seaborn as sns\n",
        "#'rf_df'='response features dataframe'\n",
        "rf_df = airline_raw_df[['inflight_wifi_service','departure_arrival_time_convenient','ease_of_online_booking','gate_location','food_and_drink','online_boarding','seat_comfort','inflight_entertainment','onboard_service','baggage_handling','checkin_service','inflight_service','cleanliness', 'satisfaction']].copy()\n",
        "\n",
        "rf_df.hist()\n",
        "plt.show()\n",
        "\n",
        "print('Number of samples: ' + str(len(rf_df)))\n",
        "print('\\n Counting null values by category:')\n",
        "print(rf_df.isnull().sum()) # command from https://datatofish.com/check-nan-pandas-dataframe/"
      ],
      "metadata": {
        "colab": {
          "base_uri": "https://localhost:8080/",
          "height": 593
        },
        "id": "j0fdRO8qChpe",
        "outputId": "dfe3b7fb-456b-4a2d-d336-71e4a38f2ee5"
      },
      "execution_count": 25,
      "outputs": [
        {
          "output_type": "display_data",
          "data": {
            "text/plain": [
              "<Figure size 432x288 with 16 Axes>"
            ],
            "image/png": "[encoded data removed]"
          },
          "metadata": {
            "needs_background": "light"
          }
        },
        {
          "output_type": "stream",
          "name": "stdout",
          "text": [
            "Number of samples: 129880\n",
            "\n",
            " Counting null values by category:\n",
            "inflight_wifi_service                0\n",
            "departure_arrival_time_convenient    0\n",
            "ease_of_online_booking               0\n",
            "gate_location                        0\n",
            "food_and_drink                       0\n",
            "online_boarding                      0\n",
            "seat_comfort                         0\n",
            "inflight_entertainment               0\n",
            "onboard_service                      0\n",
            "baggage_handling                     0\n",
            "checkin_service                      0\n",
            "inflight_service                     0\n",
            "cleanliness                          0\n",
            "satisfaction                         0\n",
            "dtype: int64\n"
          ]
        }
      ]
    },
    {
      "cell_type": "markdown",
      "source": [
        "This leaves us with 13 predictors, and ~130,000 samples. Luckily, there are no null values. Note that I haven't exluded any samples yet, so that is the original size of the raw data from my .csv file.\n",
        "\n",
        "From the histograms, I see that most of the categories have some responses of 0. The original poster of the dataset did not indicate what this means, but I assume that a 0 indicates that a question was non-applicable for a particular flier filling out their survey. For example, a flier on a plane with no wifi service wouldn't be able to rate the wifi service on their plane.\n",
        "\n",
        "I am inclided to treat these responses as null responses and eliminate them because they are dwarfed by the other responses for each predictor, but that's a decision for later (when I am deciding how to encode the data.)"
      ],
      "metadata": {
        "id": "kSS0wT_uCqkb"
      }
    },
    {
      "cell_type": "code",
      "source": [],
      "metadata": {
        "id": "msruCTB5ExrG"
      },
      "execution_count": 24,
      "outputs": []
    },
    {
      "cell_type": "markdown",
      "source": [
        "#Encoding\n",
        "\n",
        "...blah blah blah"
      ],
      "metadata": {
        "id": "gvFIJHf3O3I4"
      }
    },
    {
      "cell_type": "markdown",
      "source": [
        "# Preparing for cross-validation\n",
        "...blah blah blah"
      ],
      "metadata": {
        "id": "-za85-P5O6so"
      }
    },
    {
      "cell_type": "markdown",
      "source": [
        "# Training Naive Bayes: Version 1\n",
        "In this section, I'll train a Naive Bayes model using the details I have discussed up until the end of the section \"Preparing for cross-validation.\""
      ],
      "metadata": {
        "id": "_BuaipXyPAr_"
      }
    }
  ]
}